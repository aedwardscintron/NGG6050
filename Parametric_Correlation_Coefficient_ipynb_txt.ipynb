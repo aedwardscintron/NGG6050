{
  "cells": [
    {
      "cell_type": "markdown",
      "metadata": {
        "id": "view-in-github",
        "colab_type": "text"
      },
      "source": [
        "<a href=\"https://colab.research.google.com/github/aedwardscintron/NGG6050/blob/main/Parametric_Correlation_Coefficient_ipynb_txt.ipynb\" target=\"_parent\"><img src=\"https://colab.research.google.com/assets/colab-badge.svg\" alt=\"Open In Colab\"/></a>"
      ]
    },
    {
      "cell_type": "markdown",
      "metadata": {
        "id": "pKIiY6p3GRFq"
      },
      "source": [
        "# Definitions"
      ]
    },
    {
      "cell_type": "markdown",
      "metadata": {
        "id": "x7VmLUr5GTNw"
      },
      "source": [
        "Correlation is a measure of association between measured (random) variables. The Pearson's correlation coefficient quantifies the strength of this association on a simple scale: it varies between -1 and 1. The larger the absolute value of this correlation coefficient, the tighter the correlation and more predictive it is. The smaller the absolute value, the weaker the correlation and less predictive. Positive values imply a positive correlation: as I eat more ice cream, my weight goes up. Negative values imply a negative correlation: as I eat more ice cream, my weight goes down (wouldn't that be great!).\n",
        "\n",
        "The Pearson's correlation coefficient is called parametric because it assumes a parametric form of the distributions of the two random variables, $X$ and $Y$; specifically, that both variables are [normally distributed](https://colab.research.google.com/drive/1-KxH3FCq5rDyyO33HXxewIv-kKldkINi?usp=sharing)."
      ]
    },
    {
      "cell_type": "markdown",
      "metadata": {
        "id": "IyCyVIIDH0rb"
      },
      "source": [
        "# Computing for a population"
      ]
    },
    {
      "cell_type": "markdown",
      "metadata": {
        "id": "sYDtxlCZH5BC"
      },
      "source": [
        "When you have full knowledge of the joint distribution of $𝑋$ and $Y$ (e.g., when working with an idealized model, not with real, finite data sets), the Pearson's correlation coefficient is typically denoted as $\\rho$ and computed in terms of the covariance between the two variables, normalized by the product of their individual standard deviations:\n",
        "\n",
        "$\\quad\\rho_{X,Y}=\\frac{cov(X,Y)}{\\sigma_x\\sigma_y}$\n",
        "\n",
        "where\n",
        "\n",
        "$\\quad cov(X,Y)=E\\left [ (X-\\mu_X)(Y-\\mu_Y)\\right ]$\n",
        "\n",
        "in which $\\mu_X$ and $\\mu_Y$ are the means of $X$ and $Y$, respectively, and $E\\left[\\right]$ denotes expected value."
      ]
    },
    {
      "cell_type": "markdown",
      "metadata": {
        "id": "xDpz-ktIJGhf"
      },
      "source": [
        "# Computing for a sample"
      ]
    },
    {
      "cell_type": "markdown",
      "metadata": {
        "id": "c-qA27fbJM6k"
      },
      "source": [
        "When working with real data, you have a [sample, not a population](https://colab.research.google.com/drive/1SnVM1MPaFvMSjlDLyihgeZ25OAk-k4Nk?usp=sharing), and thus need to compute the correlation coefficient (typically denoted as *r*) using sample statistics."
      ]
    },
    {
      "cell_type": "markdown",
      "metadata": {
        "id": "9LJSqIDXJZ4f"
      },
      "source": [
        "## Sample Pearson's correlation coefficient"
      ]
    },
    {
      "cell_type": "markdown",
      "metadata": {
        "id": "Ytr0p-0MJcld"
      },
      "source": [
        "$\\quad r_{X,Y}=\\frac{\\sum^n_{i-1}{(x_i-\\bar{x})(y_i-\\bar{y})}}{\\sqrt{\\sum^n_{i-1}{(x_i-\\bar{x})^2}}\\sqrt{\\sum^n_{i-1}{(y_i-\\bar{y})^2}}}$\n",
        "\n",
        "where\n",
        "\n",
        "$\\quad \\bar{x}=\\frac{1}{n}\\sum^n_{i=1}{x_i,\\bar{y}}=\\frac{1}{n}\\sum^n_{i=1}{y_i}$\n",
        "\n",
        "are the sample means."
      ]
    },
    {
      "cell_type": "markdown",
      "metadata": {
        "id": "F2at-qokKj34"
      },
      "source": [
        "## Coefficient of determination"
      ]
    },
    {
      "cell_type": "markdown",
      "metadata": {
        "id": "KHOpKncgKoJP"
      },
      "source": [
        "It is possible to compute $r_{X,Y}$ not just when $X$ and $Y$ are two random variables, but also when one is a random (dependent) variable (typically $Y$) and the other is an independent or explanatory variable (typically $X$). In this case, the square of the correlation coefficient ($r^2$) quantifies the total variation in one variable ($Y$) that is explained by the regression line with respect to the other variable ($X$). This quantity is called the **coefficient of determination** and is often referred to as the fraction of explained variance"
      ]
    },
    {
      "cell_type": "markdown",
      "metadata": {
        "id": "dRpX2JmfLAo7"
      },
      "source": [
        "## Standard error of the sample Pearson's correlation coefficient"
      ]
    },
    {
      "cell_type": "markdown",
      "metadata": {
        "id": "WAWhhqGfLDrG"
      },
      "source": [
        "The standard error of the sample *r* is computed by assuming that r follows a [Student's t distribution](https://colab.research.google.com/drive/1Q_Du5NK71Rc1qu-byh8dy8Fs39uvR_4n?usp=sharing) with two degrees of freedom (because of the two variables):\n",
        "\n",
        "$\\quad s_r=\\sqrt{\\frac{1-r^2}{n-2}}$\n",
        "\n",
        "Note that \"standard error\" refers in general to the standard deviation of a statistical estimate, which here is *r*. It is not the same thing as the \"standard error of the mean\", which refers to the standard deviation of a statistical estimate of a mean."
      ]
    },
    {
      "cell_type": "markdown",
      "metadata": {
        "id": "4yGAhXVULi3C"
      },
      "source": [
        "## Confidence intervals for the sample Pearson's correlation coefficient"
      ]
    },
    {
      "cell_type": "markdown",
      "metadata": {
        "id": "-YIP1v0vLla_"
      },
      "source": [
        "This is a bit tricker to compute, because r is not normally distributed, particularly around the extreme values (e.g., around 1, the distribution cannot go higher than one but can take many values <1). We therefore need to do the following (a good explanation is [here](http://faculty.washington.edu/gloftus/P317-318/Useful_Information/r_to_z/PearsonrCIs.pdf)):\n",
        "\n",
        "1\\. Take the Fisher's z-transformation of r:\n",
        "\n",
        "$\\quad z=0.5\\times ln(\\frac{1+r}{1-r})$\n",
        "\n",
        "2\\. Compute its standard deviation as:\n",
        "\n",
        "$\\quad s_z=\\sqrt{\\frac{1}{n-3}}$\n",
        "\n",
        "3\\. Compute confidence intervals in this z-space as we have shown [here](https://colab.research.google.com/drive/1rdJMusMZDTaM9OGsyt27tCVkSasmRj2O?usp=sharing), as:\n",
        "\n",
        "$\\quad z \\pm (z\\:criterion) \\times s_z$\n",
        "\n",
        "where the *z* criterion is determined from the desired confidence value using a [z-score calculator](http://www.z-table.com) or [norminv](https://www.mathworks.com/help/stats/norminv.html) in Matlab.\n",
        "\n",
        "4\\. Then translate each *z* value back to *r* as:\n",
        "\n",
        "$\\quad r=\\frac{e^{2z}-1}{e^{2z}+1}$\n"
      ]
    },
    {
      "cell_type": "markdown",
      "metadata": {
        "id": "ELEb_vqYQGdK"
      },
      "source": [
        "## Hypothesis testing on the sample Pearson's correlation coefficient"
      ]
    },
    {
      "cell_type": "markdown",
      "metadata": {
        "id": "5VSSh3pMQIJf"
      },
      "source": [
        "For $H_0: r=0$. Here we are considering a null distribution that is centered at *r*=0. In this case, we know that the distribution of *r* around that mean is symmetric, and the sample mean follows follows a [Student's *t* distribution](https://colab.research.google.com/drive/1Q_Du5NK71Rc1qu-byh8dy8Fs39uvR_4n?usp=sharing).  Therefore, our test statistic is simply the *t* statistic, which we compute as the residual (with respect to zero) of *r* divided by its standard error:\n",
        "\n",
        "$\\quad t=\\frac{r}{s_r}$\n",
        "\n",
        "with $n-2$ degrees of freedom.\n",
        "\n",
        "For $H_0: r=r_s,\\:where\\:r_s\\ne 0$. Here we are considering null distributions that are not centered at $r=0$ and therefore are not symmetric and do not follow a *t* distribution. We therefore first compute the *z* transformation of $r$ and $r_s$, as above. Now our test statistic is:\n",
        "\n",
        "$\\quad \\lambda =\\frac{z_r-z_{rs}}{\\sqrt{\\frac{1}{n-3}}}$\n",
        "\n",
        "with $n-2$ degrees of freedom.\n",
        "\n"
      ]
    },
    {
      "cell_type": "markdown",
      "metadata": {
        "id": "nvmWeSSHSF95"
      },
      "source": [
        "# Exercises"
      ]
    },
    {
      "cell_type": "markdown",
      "metadata": {
        "id": "bki88QRVSaj8"
      },
      "source": [
        "Let's examine the relationship between these two measured variables:\n",
        "\n",
        "Wing length | Tail length\n",
        "--- | ---\n",
        "10.4 | 7.4\n",
        "10.8 | 7.6\n",
        "11.1 | 7.9\n",
        "10.2 | 7.2\n",
        "10.3 | 7.4\n",
        "10.2 | 7.1\n",
        "10.7 | 7.4\n",
        "10.5 | 7.2\n",
        "10.8 | 7.8\n",
        "11.2 | 7.7\n",
        "10.6 | 7.8\n",
        "11.4 | 8.3\n",
        "\n",
        "Assume Wing length is the $X$ variable and Tail Length is the $Y$ variable, both measured in cm.\n",
        "\n",
        "Answers to the questions below will be found [here](https://github.com/PennNGG/Quantitative-Neuroscience/tree/master/Answers%20to%20Exercises/Python) after the due date."
      ]
    },
    {
      "cell_type": "markdown",
      "metadata": {
        "id": "zIfgeegzTlJl"
      },
      "source": [
        "##### 1\\. Plot X vs Y. Do they look related?"
      ]
    },
    {
      "cell_type": "code",
      "source": [
        "import matplotlib.pyplot as plt\n",
        "\n",
        "# Data\n",
        "# Data\n",
        "Wing_length = [10.4, 10.8, 11.1, 10.2, 10.3, 10.2, 10.7, 10.5, 10.8, 11.2, 10.6, 11.4]\n",
        "Tail_length = [7.4, 7.6, 7.9, 7.2, 7.4, 7.1, 7.4, 7.2, 7.8, 7.7, 7.8, 8.3]\n",
        "\n",
        "\n",
        "# Plotting\n",
        "plt.figure(figsize=(10, 6))\n",
        "plt.scatter(Wing_length, Tail_length, color='blue', marker='o', label='Data Points')\n",
        "plt.title('Tail Length vs Wing Length', fontsize=16)\n",
        "plt.xlabel('Wing Length (cm)', fontsize=14)\n",
        "plt.ylabel('Tail Length (cm)', fontsize=14)\n",
        "plt.grid()\n",
        "plt.legend()\n",
        "plt.show()\n",
        "\n",
        "\n",
        "#They seem to be somewhat related (not very strong correlation)\n"
      ],
      "metadata": {
        "colab": {
          "base_uri": "https://localhost:8080/",
          "height": 571
        },
        "id": "FmJCauSVXqLO",
        "outputId": "1426fa34-885f-4491-e1cf-16333e16acd6"
      },
      "execution_count": 9,
      "outputs": [
        {
          "output_type": "display_data",
          "data": {
            "text/plain": [
              "<Figure size 1000x600 with 1 Axes>"
            ],
            "image/png": "[encoded data removed]"
          },
          "metadata": {}
        }
      ]
    },
    {
      "cell_type": "markdown",
      "metadata": {
        "id": "v4ihoOv0TzTk"
      },
      "source": [
        "##### 2\\. Calculate $r_{X,Y}$ and $r_{Y,X}$, first using the equations above and then using either the Python numpy funciton [corrcoef](https://numpy.org/doc/stable/reference/generated/numpy.corrcoef.html) or Matlab's built-in [corrcoef](https://www.mathworks.com/help/matlab/ref/corrcoef.html). Did you get the same answers?"
      ]
    },
    {
      "cell_type": "code",
      "source": [
        "import numpy as np\n",
        "from scipy.stats import pearsonr\n",
        "\n",
        "# Sample Data\n",
        "Wing_length = [10.4, 10.8, 11.1, 10.2, 10.3, 10.2, 10.7, 10.5, 10.8, 11.2, 10.6, 11.4]\n",
        "Tail_length = [7.4, 7.6, 7.9, 7.2, 7.4, 7.1, 7.4, 7.2, 7.8, 7.7, 7.8, 8.3]\n",
        "\n",
        "# Convert to numpy arrays\n",
        "X = np.array(Wing_length)\n",
        "Y = np.array(Tail_length)\n",
        "\n",
        "# NumPy correlation\n",
        "r_XY_numpy = np.corrcoef(X, Y)[0, 1]\n",
        "\n",
        "# Scipy correlation\n",
        "r_XY_scipy, _ = pearsonr(X, Y)\n",
        "\n",
        "# Output results\n",
        "print(f\"NumPy r_XY: {r_XY_numpy:.4f}, SciPy r_XY: {r_XY_scipy:.4f}\")\n",
        "print(\"Are the results the same?\", np.isclose(r_XY_numpy, r_XY_scipy))"
      ],
      "metadata": {
        "colab": {
          "base_uri": "https://localhost:8080/"
        },
        "id": "fc5_haVrZTXU",
        "outputId": "48c15e94-b1cb-40ae-daf2-6ddf20a723c8"
      },
      "execution_count": 10,
      "outputs": [
        {
          "output_type": "stream",
          "name": "stdout",
          "text": [
            "NumPy r_XY: 0.8704, SciPy r_XY: 0.8704\n",
            "Are the results the same? True\n"
          ]
        }
      ]
    },
    {
      "cell_type": "markdown",
      "metadata": {
        "id": "XqoZSFdZU5zg"
      },
      "source": [
        "##### 3\\. What is the standard error of $r_{X,Y}$? The 95% confidence intervals computed from the standard error?"
      ]
    },
    {
      "cell_type": "code",
      "source": [
        "import numpy as np\n",
        "from scipy.stats import pearsonr\n",
        "\n",
        "# Sample Data\n",
        "Wing_length = [10.4, 10.8, 11.1, 10.2, 10.3, 10.2, 10.7, 10.5, 10.8, 11.2, 10.6, 11.4]\n",
        "Tail_length = [7.4, 7.6, 7.9, 7.2, 7.4, 7.1, 7.4, 7.2, 7.8, 7.7, 7.8, 8.3]\n",
        "\n",
        "# Convert to numpy arrays\n",
        "X = np.array(Wing_length)\n",
        "Y = np.array(Tail_length)\n",
        "\n",
        "# Calculate correlation coefficient\n",
        "r, _ = pearsonr(X, Y)\n",
        "\n",
        "# Calculate sample size\n",
        "n = len(X)\n",
        "\n",
        "# Calculate standard error\n",
        "SE = np.sqrt((1 - r**2) / (n - 2))\n",
        "\n",
        "# Calculate 95% confidence intervals\n",
        "Z = 1.96  # Z-score for 95% confidence\n",
        "CI_lower = r - Z * SE\n",
        "CI_upper = r + Z * SE\n",
        "\n",
        "# Output results\n",
        "print(f\"Correlation coefficient (r): {r:.4f}\")\n",
        "print(f\"Standard error (SE): {SE:.4f}\")\n",
        "print(f\"95% Confidence Interval: ({CI_lower:.4f}, {CI_upper:.4f})\")\n"
      ],
      "metadata": {
        "colab": {
          "base_uri": "https://localhost:8080/"
        },
        "id": "7qynVcn9Z5rd",
        "outputId": "05ff3132-c26b-427c-a7eb-9561db6c019d"
      },
      "execution_count": 11,
      "outputs": [
        {
          "output_type": "stream",
          "name": "stdout",
          "text": [
            "Correlation coefficient (r): 0.8704\n",
            "Standard error (SE): 0.1557\n",
            "95% Confidence Interval: (0.5651, 1.1756)\n"
          ]
        }
      ]
    },
    {
      "cell_type": "markdown",
      "metadata": {
        "id": "sU0UjR6uVMl2"
      },
      "source": [
        "##### 4\\. Should the value of $r_{X,Y}$ be considered significant at the *p*<0.05 level, given a two-tailed test (i.e., we reject if the test statistic is too large on either tail of the null distribution) for $H_0: r_{X,Y}=0$?"
      ]
    },
    {
      "cell_type": "code",
      "source": [
        "import numpy as np\n",
        "from scipy.stats import pearsonr, t\n",
        "\n",
        "# Sample Data\n",
        "Wing_length = [10.4, 10.8, 11.1, 10.2, 10.3, 10.2, 10.7, 10.5, 10.8, 11.2, 10.6, 11.4]\n",
        "Tail_length = [7.4, 7.6, 7.9, 7.2, 7.4, 7.1, 7.4, 7.2, 7.8, 7.7, 7.8, 8.3]\n",
        "\n",
        "# Calculate correlation coefficient and p-value\n",
        "r, p_value = pearsonr(Wing_length, Tail_length)\n",
        "\n",
        "# Number of observations\n",
        "n = len(Wing_length)\n",
        "\n",
        "# Calculate the test statistic\n",
        "t_statistic = (r * np.sqrt(n - 2)) / np.sqrt(1 - r**2)\n",
        "\n",
        "# Degrees of freedom\n",
        "df = n - 2\n",
        "\n",
        "# Critical t-value for two-tailed test\n",
        "alpha = 0.05\n",
        "t_critical = t.ppf(1 - alpha / 2, df)\n",
        "\n",
        "# Output results\n",
        "print(f\"Correlation coefficient (r): {r:.4f}\")\n",
        "print(f\"Test statistic (t): {t_statistic:.4f}\")\n",
        "print(f\"Critical t-value: ±{t_critical:.4f}\")\n",
        "print(f\"P-value: {p_value:.4f}\")\n",
        "\n",
        "# Determine significance\n",
        "if abs(t_statistic) > t_critical:\n",
        "    print(\"Reject H0: The correlation is significant at the p < 0.05 level.\")\n",
        "else:\n",
        "    print(\"Fail to reject H0: The correlation is not significant at the p < 0.05 level.\")\n"
      ],
      "metadata": {
        "colab": {
          "base_uri": "https://localhost:8080/"
        },
        "id": "r5hkcIkdaeDo",
        "outputId": "8d436eee-50b3-4212-9747-b6c7f573e436"
      },
      "execution_count": 12,
      "outputs": [
        {
          "output_type": "stream",
          "name": "stdout",
          "text": [
            "Correlation coefficient (r): 0.8704\n",
            "Test statistic (t): 5.5893\n",
            "Critical t-value: ±2.2281\n",
            "P-value: 0.0002\n",
            "Reject H0: The correlation is significant at the p < 0.05 level.\n"
          ]
        }
      ]
    },
    {
      "cell_type": "markdown",
      "metadata": {
        "id": "mywqPzz3Vg0I"
      },
      "source": [
        "##### 5\\. Yale does the exact same study and finds that his correlation value is 0.75. Is this the same as yours? That is, evaluate $𝐻_0: r=0.75$."
      ]
    },
    {
      "cell_type": "code",
      "source": [
        "import numpy as np\n",
        "from scipy.stats import t\n",
        "\n",
        "# Your correlation value and number of observations\n",
        "r_observed = 0.75  # Example value from study\n",
        "n = 12  # Number of observations (from the previous example)\n",
        "\n",
        "# Hypothesized correlation from Yale\n",
        "r_hypothesized = 0.75\n",
        "\n",
        "# Calculate the test statistic\n",
        "t_statistic = (r_observed - r_hypothesized) / np.sqrt((1 - r_hypothesized**2) / (n - 2))\n",
        "\n",
        "# Degrees of freedom\n",
        "df = n - 2\n",
        "\n",
        "# Critical t-value for two-tailed test\n",
        "alpha = 0.05\n",
        "t_critical = t.ppf(1 - alpha / 2, df)\n",
        "\n",
        "# Output results\n",
        "print(f\"Test statistic (t): {t_statistic:.4f}\")\n",
        "print(f\"Critical t-value: ±{t_critical:.4f}\")\n",
        "\n",
        "# Determine significance\n",
        "if abs(t_statistic) > t_critical:\n",
        "    print(\"Reject H0: The correlation is significantly different from 0.75.\")\n",
        "else:\n",
        "    print(\"Fail to reject H0: The correlation is not significantly different from 0.75.\")\n"
      ],
      "metadata": {
        "colab": {
          "base_uri": "https://localhost:8080/"
        },
        "id": "KyBvWDKBaqsl",
        "outputId": "08d3e805-c3be-4624-ad43-b3a5b4e63f00"
      },
      "execution_count": 13,
      "outputs": [
        {
          "output_type": "stream",
          "name": "stdout",
          "text": [
            "Test statistic (t): 0.0000\n",
            "Critical t-value: ±2.2281\n",
            "Fail to reject H0: The correlation is not significantly different from 0.75.\n"
          ]
        }
      ]
    },
    {
      "cell_type": "markdown",
      "metadata": {
        "id": "qYW4bBQ7Vxa-"
      },
      "source": [
        "##### 6\\. Finally, calculate the statistical power and sample size needed to reject $H_0:r=0\\:when\\:r\\ge 0.5$."
      ]
    },
    {
      "cell_type": "code",
      "source": [
        "import numpy as np\n",
        "from scipy.stats import norm\n",
        "\n",
        "# Parameters\n",
        "alpha = 0.05  # Significance level\n",
        "r_true = 0.3  # True correlation\n",
        "power_target = 0.80  # Desired power\n",
        "\n",
        "# Calculate required sample size for given power\n",
        "def required_sample_size(r, alpha, power):\n",
        "    z_alpha = norm.ppf(1 - alpha / 2)\n",
        "    z_beta = norm.ppf(power)\n",
        "    return np.ceil((z_alpha + z_beta) ** 2 / (0.5 * np.log((1 + r) / (1 - r))) ** 2)\n",
        "\n",
        "# Calculate power for a given sample size\n",
        "def calculate_power(r, n, alpha):\n",
        "    z = np.arctanh(r)\n",
        "    z_alpha = norm.ppf(1 - alpha / 2)\n",
        "    return norm.cdf(z - z_alpha) + (1 - norm.cdf(z + z_alpha))\n",
        "\n",
        "# Outputs\n",
        "n_needed = required_sample_size(r_true, alpha, power_target)\n",
        "power_calculated = calculate_power(r_true, 30, alpha)\n",
        "\n",
        "print(f\"Required sample size for {power_target * 100:.0f}% power: {n_needed:.0f}\")\n",
        "print(f\"Calculated power for n=30: {power_calculated:.4f}\")\n"
      ],
      "metadata": {
        "colab": {
          "base_uri": "https://localhost:8080/"
        },
        "id": "LpzE3QUnay1J",
        "outputId": "cdcd1078-51a8-474c-b5e4-47791f58abec"
      },
      "execution_count": 19,
      "outputs": [
        {
          "output_type": "stream",
          "name": "stdout",
          "text": [
            "Required sample size for 80% power: 82\n",
            "Calculated power for n=30: 0.0610\n"
          ]
        }
      ]
    },
    {
      "cell_type": "markdown",
      "metadata": {
        "id": "UqoNXyuxP-go"
      },
      "source": [
        "# Additional Resources\n"
      ]
    },
    {
      "cell_type": "markdown",
      "metadata": {
        "id": "clnBO4FU28El"
      },
      "source": [
        "- Differences between correlation and regression are discussed [here](https://www.bmj.com/about-bmj/resources-readers/publications/statistics-square-one/11-correlation-and-regression) and [here](http://www.biostathandbook.com/linearregression.html).\n",
        "\n",
        "- A reference on [how to choose the appropriate measure of association](https://journals.sagepub.com/doi/pdf/10.1177/8756479308317006) (Khamis 2008)."
      ]
    },
    {
      "cell_type": "markdown",
      "metadata": {
        "id": "tteEm2Qlgbb3"
      },
      "source": [
        "# Credits\n",
        "\n",
        "Copyright 2021 by Joshua I. Gold, University of Pennsylvania"
      ]
    }
  ],
  "metadata": {
    "colab": {
      "collapsed_sections": [
        "xDpz-ktIJGhf",
        "ELEb_vqYQGdK"
      ],
      "provenance": [],
      "include_colab_link": true
    },
    "kernelspec": {
      "display_name": "Python 3",
      "name": "python3"
    },
    "language_info": {
      "name": "python"
    }
  },
  "nbformat": 4,
  "nbformat_minor": 0
}