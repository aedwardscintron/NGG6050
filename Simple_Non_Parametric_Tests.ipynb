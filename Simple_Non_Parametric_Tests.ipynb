{
  "cells": [
    {
      "cell_type": "markdown",
      "metadata": {
        "id": "view-in-github",
        "colab_type": "text"
      },
      "source": [
        "<a href=\"https://colab.research.google.com/github/aedwardscintron/NGG6050/blob/main/Simple_Non_Parametric_Tests.ipynb\" target=\"_parent\"><img src=\"https://colab.research.google.com/assets/colab-badge.svg\" alt=\"Open In Colab\"/></a>"
      ]
    },
    {
      "cell_type": "markdown",
      "metadata": {
        "id": "Yg3ulRg6wD6A"
      },
      "source": [
        "[![Open In Colab](https://colab.research.google.com/assets/colab-badge.svg)](https://colab.research.google.com/github/PennNGG/Quantitative-Neuroscience/blob/master/Hypothesis%20Testing/Python/Simple%20Non%2dParametric%20Tests.ipynb)"
      ]
    },
    {
      "cell_type": "markdown",
      "metadata": {
        "id": "pKIiY6p3GRFq"
      },
      "source": [
        "# Definitions"
      ]
    },
    {
      "cell_type": "markdown",
      "metadata": {
        "id": "x7VmLUr5GTNw"
      },
      "source": [
        "When comparing the central tendencies (e.g., means) of two samples, if you know how the samples are distributed and/or *n* is large enough in each sample so that you can assume that their means are normally distributed via the Central Limit Theorem, then it is reasonable to use parametric hypothesis tests like a [*t*-test](https://colab.research.google.com/drive/1M7xjaMwJUEyULPHfXc3tWG6-WVjCl-uQ?usp=sharing). Otherwise, nonparametric tests should be used.\n",
        "\n",
        "There is an increasing understanding by neuroscientists and others that parametric tests, while they tend to be simple and convenient, often have assumptions that are not well justified and thus should be used only when appropriate. See, for example:\n",
        "\n",
        "[Running the Numbers](https://www.nature.com/articles/nn0205-123) from *Nature Neuroscience*, which discusses using nonparametric approaches when appropriate.\n",
        "\n",
        "[An evaluation of nonparametric approaches in clinical trials](https://bmcmedresmethodol.biomedcentral.com/articles/10.1186/1471-2288-5-35), which covers several of the tests described below.\n",
        "\n",
        "Here we will not dive deep into the math but instead will provide a more practical guide for when to use three common forms of nonparametric one- and two-sample tests."
      ]
    },
    {
      "cell_type": "markdown",
      "metadata": {
        "id": "5ULZKAuOBol4"
      },
      "source": [
        "\n",
        "# Getting started with code"
      ]
    },
    {
      "cell_type": "markdown",
      "metadata": {
        "id": "S57swuS-BwVO"
      },
      "source": [
        "Matlab code is found in the [NGG Statistics GitHub Repository](https://github.com/PennNGG/Statistics.git) under \"Hypothesis Testing/SimpleNonParametricTests.m\".\n",
        "\n",
        "Python code is included below. First run the code cell just below to make sure all of the required Python modules are loaded, then you can run the other cell(s)."
      ]
    },
    {
      "cell_type": "code",
      "execution_count": null,
      "metadata": {
        "id": "CjqTNogqBtUX"
      },
      "outputs": [],
      "source": [
        "import numpy as np\n",
        "import scipy.stats as st\n",
        "from statsmodels.stats.descriptivestats import sign_test"
      ]
    },
    {
      "cell_type": "markdown",
      "metadata": {
        "id": "nvmWeSSHSF95"
      },
      "source": [
        "# Sign test: one sample, skewed distribution"
      ]
    },
    {
      "cell_type": "markdown",
      "metadata": {
        "id": "bki88QRVSaj8"
      },
      "source": [
        "This test is applied to a single sample but is typically used for paired measurements to test the hypothesis that there is no systematic direction of a treatment effect (positive=the treatment resulted in a bigger value, negative=the treatment resulted in a smaller value), regardless of magnitude. The Null hypothesis is an equal probability of an effect either direction, so the data are treated as a [binomial distribution](https://colab.research.google.com/drive/1q1KaEjkAzUKRFSLPQ0SFdqU_byc70Oi2?usp=sharing) with *p*=0.5"
      ]
    },
    {
      "cell_type": "code",
      "execution_count": null,
      "metadata": {
        "id": "NDfcV21FJ7v0"
      },
      "outputs": [],
      "source": [
        "# Make some paired data\n",
        "a = [3,10,4,20,4,7,50,3,5,5,7]\n",
        "b = [5,9,10,15,6,5,43,6,2,1,0]\n",
        "diff = [bi-ai for ai, bi in zip(a,b)]\n",
        "_, p = sign_test(diff)\n",
        "print(f'p={p:.2f}')"
      ]
    },
    {
      "cell_type": "markdown",
      "metadata": {
        "id": "To3hA26GKjv0"
      },
      "source": [
        "# Wilcoxon signed-rank test: one sample or paired samples, symmetric distribution(s)"
      ]
    },
    {
      "cell_type": "markdown",
      "metadata": {
        "id": "QtK7ZyfjKojz"
      },
      "source": [
        "This test is typically used as a substitute for a [one-sample *t*-test](https://colab.research.google.com/drive/1M7xjaMwJUEyULPHfXc3tWG6-WVjCl-uQ?usp=sharing) and can be used to test the (null) hypothesis that a sample came from a population with a particular median value, or that the median values of two paired samples are equal to each other (i.e., the median of the difference distribution is zero)\n"
      ]
    },
    {
      "cell_type": "code",
      "execution_count": null,
      "metadata": {
        "colab": {
          "base_uri": "https://localhost:8080/"
        },
        "id": "yjGigVEMLWMP",
        "outputId": "1aef3c87-7610-4f79-abf8-c01145928cd8"
      },
      "outputs": [
        {
          "name": "stdout",
          "output_type": "stream",
          "text": [
            "p = 0.53\n"
          ]
        }
      ],
      "source": [
        "samples = np.random.randint(0, high=51, size=200)\n",
        "null_hypothesis_median = 24\n",
        "\n",
        "# Unlike in Matlab, the scipy implementation does not handle the case of comparing\n",
        "#  to a median other than zero, so we make this a (fake) paired two-sample test\n",
        "#  by subtracting the median from each value\n",
        "_, p = st.wilcoxon(samples-null_hypothesis_median)\n",
        "print(f'p = {p:.2f}')\n"
      ]
    },
    {
      "cell_type": "markdown",
      "metadata": {
        "id": "k_iBh6ZsLnX7"
      },
      "source": [
        "# Mann-Whitney: unpaired, two sample\n"
      ]
    },
    {
      "cell_type": "markdown",
      "metadata": {
        "id": "clnBO4FU28El"
      },
      "source": [
        "This is the test that is typically used as a substitute for a [two-sample *t*-test](https://colab.research.google.com/drive/1M7xjaMwJUEyULPHfXc3tWG6-WVjCl-uQ?usp=sharing) and can be used to test the hypothesis that the two unpaired samples come from distributions that differ by a particular median value.\n",
        "\n"
      ]
    },
    {
      "cell_type": "code",
      "execution_count": null,
      "metadata": {
        "colab": {
          "base_uri": "https://localhost:8080/"
        },
        "id": "vbhD1d9vOBCM",
        "outputId": "b29805f4-281f-4b5c-ce45-9dd09dab6c48"
      },
      "outputs": [
        {
          "name": "stdout",
          "output_type": "stream",
          "text": [
            "p = 0.23\n"
          ]
        }
      ],
      "source": [
        "X = np.random.randint(0, high=51, size=200)\n",
        "Y = 2 + np.random.randint(0, high=51, size=200)\n",
        "_, p = st.mannwhitneyu(X,Y)\n",
        "print(f'p = {p:.2f}')\n"
      ]
    },
    {
      "cell_type": "markdown",
      "metadata": {
        "id": "XC6PEQq1wD6H"
      },
      "source": [
        "# Exercises"
      ]
    },
    {
      "cell_type": "markdown",
      "metadata": {
        "id": "kUHcQ5p2wD6H"
      },
      "source": [
        "### Scenario 1:\n",
        "\n",
        "You are a behavioral geologist measuring the reaction time of rocks in response to a tone. Specifically, you want to compare the median reaction time of geodes, to that of limestone. You recruit 20 rocks per group, and run your reaction-time experiment. What test would you use to compare median reaction times between geodes and limestone, and why?"
      ]
    },
    {
      "cell_type": "code",
      "source": [
        "#I would do a Mann-Whitney test, given that there are two independent groups (geodes and limestone) and we are interested in comparing median reaction time\n",
        "import numpy as np\n",
        "from scipy.stats import mannwhitneyu\n",
        "\n",
        "# Example data for reaction time\n",
        "geodes_reaction_times = [1.2, 1.5, 1.7, 1.4, 1.6, 1.8, 1.5, 1.7, 1.4, 1.6, 1.8, 1.5, 1.7, 1.4, 1.6, 1.8, 1.5, 1.7, 1.4, 1.6]\n",
        "limestone_reaction_times = [2.2, 2.5, 2.7, 2.4, 2.6, 2.8, 2.5, 2.7, 2.4, 2.6, 2.8, 2.5, 2.7, 2.4, 2.6, 2.8, 2.5, 2.7, 2.4, 2.6]\n",
        "\n",
        "# Perform the Mann-Whitney U test\n",
        "statistic, p_value = mannwhitneyu(geodes_reaction_times, limestone_reaction_times, alternative='two-sided')\n",
        "\n",
        "# Output the results\n",
        "print(f\"Mann-Whitney U statistic: {statistic}\")\n",
        "print(f\"P-value: {p_value}\")\n",
        "\n",
        "# Interpretation\n",
        "if p_value < 0.05:\n",
        "    print(\"There is a significant difference between the reaction times of geodes and limestone.\")\n",
        "else:\n",
        "    print(\"There is no significant difference between the reaction times of geodes and limestone.\")\n"
      ],
      "metadata": {
        "colab": {
          "base_uri": "https://localhost:8080/"
        },
        "id": "WmpuUfOtzoam",
        "outputId": "9f954c55-4de2-4199-bb38-2990526c6f38"
      },
      "execution_count": null,
      "outputs": [
        {
          "output_type": "stream",
          "name": "stdout",
          "text": [
            "Mann-Whitney U statistic: 0.0\n",
            "P-value: 5.996480566929223e-08\n",
            "There is a significant difference between the reaction times of geodes and limestone.\n"
          ]
        }
      ]
    },
    {
      "cell_type": "markdown",
      "source": [],
      "metadata": {
        "id": "rKpVl5QZja_n"
      }
    },
    {
      "cell_type": "markdown",
      "metadata": {
        "id": "jQ-Tqk2GwD6H"
      },
      "source": [
        "### Scenario 2:\n",
        "\n",
        "You are a brilliant scientist working at a biotech firm developing a vaccine that reverses aging. Wow! To test the efficacy of the vaccine, you recruit 50 people, give them a course of your vaccine, and measure their age with a (very) special scale before and after treatment. You want to start by refuting the simple that that the participants' measured ages are not changed by the treatment. What test do you use and why?"
      ]
    },
    {
      "cell_type": "code",
      "source": [
        "#Wilcoxon test. This is because there are paired observations and magnitude (age) is taken into account\n",
        "\n",
        "import numpy as np\n",
        "from scipy import stats\n",
        "\n",
        "# Example Ages before and after treatment\n",
        "ages_before = np.array([70, 65, 80, 72, 60])  # Ages before treatment\n",
        "ages_after = np.array([68, 63, 77, 69, 58])   # Ages after treatment\n",
        "\n",
        "# Calculate the differences between paired samples\n",
        "differences = ages_after - ages_before\n",
        "\n",
        "# Perform the Wilcoxon signed-rank test\n",
        "statistic, p_value = stats.wilcoxon(differences)\n",
        "\n",
        "# Print results\n",
        "print(f'Wilcoxon statistic: {statistic:.3f}')\n",
        "print(f'P-value: {p_value:.3f}')\n",
        "\n",
        "# Interpret the p-value\n",
        "if p_value < 0.05:\n",
        "    print(\"There is a significant difference in ages before and after treatment.\")\n",
        "else:\n",
        "    print(\"There is no significant difference in ages before and after treatment.\")"
      ],
      "metadata": {
        "colab": {
          "base_uri": "https://localhost:8080/"
        },
        "id": "p4Tj0d_HzzQN",
        "outputId": "71ba4651-6e67-4169-8361-70db2df8398d"
      },
      "execution_count": null,
      "outputs": [
        {
          "output_type": "stream",
          "name": "stdout",
          "text": [
            "Wilcoxon statistic: 0.000\n",
            "P-value: 0.062\n",
            "There is no significant difference in ages before and after treatment.\n"
          ]
        }
      ]
    },
    {
      "cell_type": "markdown",
      "metadata": {
        "id": "dDiHtnndwD6I"
      },
      "source": [
        "### Scenario 3\n",
        "\n",
        "You are a neuroeconomist and believe you have developed a wearable device that can change consumer preferences about a given product. To test your device, you present product X to a group of 40 individuals, and ask them to fill out a survery assessing how much they like the product (larger score means they like it more). Then, you have the individuals wear the device, present product X, and assess how much they like of the product. You want to know if the device reliably increases, decreases, or does not affect their liking of product X. What test would you use and why? What result would indicate that their liking has increased?"
      ]
    },
    {
      "cell_type": "code",
      "source": [
        "#Wilcoxon test. This is because there are paired observations and magnitude (how much they like the product) is taken into account.\n",
        "#p value under 0.05, given null hypothesis of no effect. This would allow to reject the null hypothesis (H0: liking has not increased), suggesting the device had an effect\n",
        "\n",
        "\n",
        "import numpy as np\n",
        "from scipy.stats import wilcoxon\n",
        "\n",
        "# Example Data before and after using device\n",
        "before_device = np.array([7, 5, 6, 8, 7, 5, 6, 9, 8, 7, 6, 5, 7, 8, 9, 6, 5, 7, 8, 6, 5, 7, 8, 9, 6, 5, 7, 8, 7, 6, 8, 9, 7, 6, 5, 8, 7, 6, 9, 8])\n",
        "after_device = np.array([8, 6, 7, 9, 8, 6, 7, 10, 9, 8, 7, 6, 8, 9, 10, 7, 6, 8, 9, 7, 6, 8, 9, 10, 7, 6, 8, 9, 8, 7, 9, 10, 8, 7, 6, 9, 8, 7, 10, 9])\n",
        "\n",
        "# Perform the Wilcoxon Signed-Rank Test\n",
        "statistic, p_value = wilcoxon(before_device, after_device)\n",
        "\n",
        "print(f\"Wilcoxon Signed-Rank Test Statistic: {statistic}\")\n",
        "print(f\"P-value: {p_value}\")\n",
        "\n",
        "# Determine if the result is significant\n",
        "alpha = 0.05\n",
        "if p_value < alpha:\n",
        "    print(\"The device has a significant effect on liking product X.\")\n",
        "else:\n",
        "    print(\"There is no significant effect of the device on liking product X.\")\n"
      ],
      "metadata": {
        "colab": {
          "base_uri": "https://localhost:8080/"
        },
        "id": "45_b4I4q0Rw5",
        "outputId": "e1ed6c04-0aeb-4988-94fd-7c1d2d2c0866"
      },
      "execution_count": null,
      "outputs": [
        {
          "output_type": "stream",
          "name": "stdout",
          "text": [
            "Wilcoxon Signed-Rank Test Statistic: 0.0\n",
            "P-value: 1.8189894035458565e-12\n",
            "The device has a significant effect on liking product X.\n"
          ]
        }
      ]
    },
    {
      "cell_type": "markdown",
      "metadata": {
        "id": "UqoNXyuxP-go"
      },
      "source": [
        "# Additional Resources\n"
      ]
    },
    {
      "cell_type": "markdown",
      "metadata": {
        "id": "tteEm2Qlgbb3"
      },
      "source": [
        "# Credits\n",
        "\n",
        "Copyright 2021 by Joshua I. Gold, University of Pennsylvania"
      ]
    }
  ],
  "metadata": {
    "colab": {
      "collapsed_sections": [
        "pKIiY6p3GRFq",
        "5ULZKAuOBol4",
        "To3hA26GKjv0",
        "k_iBh6ZsLnX7"
      ],
      "provenance": [],
      "include_colab_link": true
    },
    "kernelspec": {
      "display_name": "Python 3.9.6 64-bit",
      "language": "python",
      "name": "python3"
    },
    "language_info": {
      "name": "python",
      "version": "3.9.6"
    },
    "vscode": {
      "interpreter": {
        "hash": "aee8b7b246df8f9039afb4144a1f6fd8d2ca17a180786b69acc140d282b71a49"
      }
    }
  },
  "nbformat": 4,
  "nbformat_minor": 0
}